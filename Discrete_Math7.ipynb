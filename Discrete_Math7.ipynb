{
  "nbformat": 4,
  "nbformat_minor": 0,
  "metadata": {
    "colab": {
      "provenance": [],
      "authorship_tag": "ABX9TyMxb6/hfNcEE5S3UsutSuNh",
      "include_colab_link": true
    },
    "kernelspec": {
      "name": "python3",
      "display_name": "Python 3"
    },
    "language_info": {
      "name": "python"
    }
  },
  "cells": [
    {
      "cell_type": "markdown",
      "metadata": {
        "id": "view-in-github",
        "colab_type": "text"
      },
      "source": [
        "<a href=\"https://colab.research.google.com/github/Maks-Shashkov/detailed_math/blob/main/Discrete_Math7.ipynb\" target=\"_parent\"><img src=\"https://colab.research.google.com/assets/colab-badge.svg\" alt=\"Open In Colab\"/></a>"
      ]
    },
    {
      "cell_type": "markdown",
      "source": [
        "Провести предварительную обработку произвольного текста. Привести все слова к нижнему регистру, удалить знаки препинания.\n",
        "\n",
        "Зашифровать текст методом простой замены, запросив ключ шифрования у пользователя. Дешифровать текст, используя тот же самый ключ.\n",
        "\n",
        "Зашифровать текст методом сложной замены, запросив ключ шифрования у пользователя. Дешифровать текст, используя тот же самый ключ"
      ],
      "metadata": {
        "id": "Fbhi5HFhOTxK"
      }
    },
    {
      "cell_type": "code",
      "execution_count": null,
      "metadata": {
        "colab": {
          "base_uri": "https://localhost:8080/"
        },
        "id": "JygWZSw6ERZX",
        "outputId": "7f5f36a3-ca00-4d75-b80b-b350419b794b"
      },
      "outputs": [
        {
          "output_type": "stream",
          "name": "stdout",
          "text": [
            "Зашифрованный текст (простая замена): oruhp lsvxp groru vlw dphw frqvhfwhwxu dglslvflqj holw\n",
            "Дешифрованный текст (простая замена): lorem ipsum dolor sit amet consectetur adipiscing elit\n"
          ]
        }
      ],
      "source": [
        "import string\n",
        "\n",
        "# Функция для предварительной обработки текста\n",
        "def preprocess_text(text):\n",
        "    text = text.lower()  # Приводим все слова к нижнему регистру\n",
        "    text = text.translate(str.maketrans(\"\", \"\", string.punctuation))  # Удаляем знаки препинания\n",
        "    return text\n",
        "\n",
        "# Функция для шифрования текста методом простой замены\n",
        "def simple_substitution_encrypt(text, key):\n",
        "    encrypted_text = \"\"\n",
        "    for char in text:\n",
        "        if char.isalpha():\n",
        "            index = (ord(char) - ord('a') + key) % 26\n",
        "            encrypted_text += chr(index + ord('a'))\n",
        "        else:\n",
        "            encrypted_text += char\n",
        "    return encrypted_text\n",
        "\n",
        "# Функция для дешифрования текста методом простой замены\n",
        "def simple_substitution_decrypt(encrypted_text, key):\n",
        "    decrypted_text = \"\"\n",
        "    for char in encrypted_text:\n",
        "        if char.isalpha():\n",
        "            index = (ord(char) - ord('a') - key) % 26\n",
        "            decrypted_text += chr(index + ord('a'))\n",
        "        else:\n",
        "            decrypted_text += char\n",
        "    return decrypted_text\n",
        "\n",
        "\n",
        "# Пример использования\n",
        "text = 'Lorem ipsum dolor sit amet, consectetur adipiscing elit'\n",
        "key = 3\n",
        "\n",
        "# Предварительная обработка текста\n",
        "preprocessed_text = preprocess_text(text)\n",
        "\n",
        "# Шифрование методом простой замены\n",
        "encrypted_simple_substitution = simple_substitution_encrypt(preprocessed_text, key)\n",
        "print(\"Зашифрованный текст (простая замена):\", encrypted_simple_substitution)\n",
        "\n",
        "# Дешифрование методом простой замены\n",
        "decrypted_simple_substitution = simple_substitution_decrypt(encrypted_simple_substitution, key)\n",
        "print(\"Дешифрованный текст (простая замена):\", decrypted_simple_substitution)"
      ]
    },
    {
      "cell_type": "code",
      "source": [
        "import string\n",
        "\n",
        "# Функция для предварительной обработки текста\n",
        "def preprocess_text(text):\n",
        "    text = text.lower()  # Приводим все слова к нижнему регистру\n",
        "    text = text.translate(str.maketrans(\"\", \"\", string.punctuation))  # Удаляем знаки препинания\n",
        "    return text\n",
        "\n",
        "# Функция для шифрования текста с использованием системы шифрования Виженера\n",
        "def vigenere_encrypt(text, key):\n",
        "    encrypted_text = \"\"\n",
        "    key_index = 0\n",
        "    for char in text:\n",
        "        if char.isalpha():\n",
        "            key_char = key[key_index % len(key)]\n",
        "            index = (ord(char) - ord('a') + ord(key_char) - ord('a')) % 26\n",
        "            encrypted_text += chr(index + ord('a'))\n",
        "            key_index += 1\n",
        "        else:\n",
        "            encrypted_text += char\n",
        "    return encrypted_text\n",
        "\n",
        "# Функция для дешифрования текста с использованием системы шифрования Виженера\n",
        "def vigenere_decrypt(encrypted_text, key):\n",
        "    decrypted_text = \"\"\n",
        "    key_index = 0\n",
        "    for char in encrypted_text:\n",
        "        if char.isalpha():\n",
        "            key_char = key[key_index % len(key)]\n",
        "            index = (ord(char) - ord('a') - ord(key_char) + ord('a')) % 26\n",
        "            decrypted_text += chr(index + ord('a'))\n",
        "            key_index += 1\n",
        "        else:\n",
        "            decrypted_text += char\n",
        "    return decrypted_text\n",
        "\n",
        "# Запрос ключа у пользователя\n",
        "key = 'ppfff'\n",
        "if not all(char.isalpha() for char in key):\n",
        "    print(\"Некорректный ключ\")\n",
        "else:\n",
        "    # Запрос текста у пользователя\n",
        "    text = 'Lorem ipsum dolor sit amet, consectetur adipiscing elit'\n",
        "\n",
        "    # Предварительная обработка текста\n",
        "    text = preprocess_text(text)\n",
        "\n",
        "    # Шифрование текста с использованием системы шифрования Виженера\n",
        "    encrypted_text = vigenere_encrypt(text, key)\n",
        "\n",
        "    print(f\"Зашифрованный текст: {encrypted_text}\")\n",
        "\n",
        "    # Дешифрование текста с использованием системы шифрования Виженера\n",
        "    decrypted_text = vigenere_decrypt(encrypted_text, key)\n",
        "\n",
        "    print(f\"Расшифрованный текст: {decrypted_text}\")\n",
        "\n"
      ],
      "metadata": {
        "colab": {
          "base_uri": "https://localhost:8080/"
        },
        "id": "Dr_UcJVhI--I",
        "outputId": "611d920d-a54e-4403-c3cf-1c47c5645b9b"
      },
      "execution_count": null,
      "outputs": [
        {
          "output_type": "stream",
          "name": "stdout",
          "text": [
            "Зашифрованный текст: adwjr xexzr sdqtw hxy frti htshthyjijw fixenxhxcl jqxi\n",
            "Расшифрованный текст: lorem ipsum dolor sit amet consectetur adipiscing elit\n"
          ]
        }
      ]
    }
  ]
}