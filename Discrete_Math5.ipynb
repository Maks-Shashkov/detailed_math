{
  "nbformat": 4,
  "nbformat_minor": 0,
  "metadata": {
    "colab": {
      "provenance": [],
      "authorship_tag": "ABX9TyNJn6Bla0Ez56fZtGFcsz7I",
      "include_colab_link": true
    },
    "kernelspec": {
      "name": "python3",
      "display_name": "Python 3"
    },
    "language_info": {
      "name": "python"
    }
  },
  "cells": [
    {
      "cell_type": "markdown",
      "metadata": {
        "id": "view-in-github",
        "colab_type": "text"
      },
      "source": [
        "<a href=\"https://colab.research.google.com/github/Maks-Shashkov/detailed_math/blob/main/Discrete_Math5.ipynb\" target=\"_parent\"><img src=\"https://colab.research.google.com/assets/colab-badge.svg\" alt=\"Open In Colab\"/></a>"
      ]
    },
    {
      "cell_type": "markdown",
      "source": [
        "Запросить у пользователя количество информационных разрядов и сгенерировать таблицу, требуемого размера. \\"
      ],
      "metadata": {
        "id": "SX019sZkKfU7"
      }
    },
    {
      "cell_type": "code",
      "source": [
        "n = int(input(\"Введите количество информационных разрядов: \"))\n",
        "\n",
        "for i in range(2 ** n):\n",
        "    for j in range(n):\n",
        "        print((i >> j) & 1, end=\"\")\n",
        "    print()\n"
      ],
      "metadata": {
        "colab": {
          "base_uri": "https://localhost:8080/"
        },
        "id": "zhQn2i-bKjUT",
        "outputId": "9b70f905-bb90-43bc-b80a-92ee000b7e3e"
      },
      "execution_count": 2,
      "outputs": [
        {
          "output_type": "stream",
          "name": "stdout",
          "text": [
            "Введите количество информационных разрядов: 5\n",
            "00000\n",
            "10000\n",
            "01000\n",
            "11000\n",
            "00100\n",
            "10100\n",
            "01100\n",
            "11100\n",
            "00010\n",
            "10010\n",
            "01010\n",
            "11010\n",
            "00110\n",
            "10110\n",
            "01110\n",
            "11110\n",
            "00001\n",
            "10001\n",
            "01001\n",
            "11001\n",
            "00101\n",
            "10101\n",
            "01101\n",
            "11101\n",
            "00011\n",
            "10011\n",
            "01011\n",
            "11011\n",
            "00111\n",
            "10111\n",
            "01111\n",
            "11111\n"
          ]
        }
      ]
    },
    {
      "cell_type": "markdown",
      "source": [
        "Методом Хемминга закодировать произвольную информационную комбинацию, заданного размера, рассчитав проверочные символы табличным методом."
      ],
      "metadata": {
        "id": "rR4MkXbuK_rL"
      }
    },
    {
      "cell_type": "code",
      "source": [
        "def calculate_parity_bits(data):\n",
        "    n = len(data)\n",
        "    m = 0\n",
        "    while 2 ** m < n + m + 1:\n",
        "        m += 1\n",
        "\n",
        "    code = [0] * (n + m)\n",
        "    j = 0\n",
        "    for i in range(1, n + m + 1):\n",
        "        if i & (i - 1) == 0:\n",
        "            code[i - 1] = 0\n",
        "        else:\n",
        "            code[i - 1] = int(data[j])\n",
        "            j += 1\n",
        "\n",
        "    for i in range(m):\n",
        "        parity_bit = 0\n",
        "        for j in range(1, n + m + 1):\n",
        "            if j & (2 ** i) != 0:\n",
        "                parity_bit ^= code[j - 1]\n",
        "        code[2 ** i - 1] = parity_bit\n",
        "\n",
        "    return code\n",
        "\n",
        "data = input(\"Введите информационную комбинацию: \")\n",
        "code = calculate_parity_bits(data)\n",
        "\n",
        "print(\"Закодированная комбинация:\", \"\".join(map(str, code)))"
      ],
      "metadata": {
        "colab": {
          "base_uri": "https://localhost:8080/"
        },
        "id": "nuzdpXx4LAAi",
        "outputId": "f51f9c3f-68ee-47ff-b8f5-4092c09819df"
      },
      "execution_count": 3,
      "outputs": [
        {
          "output_type": "stream",
          "name": "stdout",
          "text": [
            "Введите информационную комбинацию: 5\n",
            "Закодированная комбинация: 555\n"
          ]
        }
      ]
    },
    {
      "cell_type": "markdown",
      "source": [],
      "metadata": {
        "id": "_H1WAKMKLZYr"
      }
    },
    {
      "cell_type": "code",
      "source": [
        "def calculate_parity_bits(data):\n",
        "    n = len(data)\n",
        "    m = 0\n",
        "    while 2 ** m < n + m + 1:\n",
        "        m += 1\n",
        "\n",
        "    code = [0] * (n + m)\n",
        "    j = 0\n",
        "    for i in range(1, n + m + 1):\n",
        "        if i & (i - 1) == 0:\n",
        "            code[i - 1] = 0\n",
        "        else:\n",
        "            code[i - 1] = int(data[j])\n",
        "            j += 1\n",
        "\n",
        "    for i in range(m):\n",
        "        parity_bit = 0\n",
        "        for j in range(1, n + m + 1):\n",
        "            if j & (2 ** i) != 0:\n",
        "                parity_bit ^= code[j - 1]\n",
        "        code[2 ** i - 1] = parity_bit\n",
        "\n",
        "    return code\n",
        "\n",
        "def introduce_error(code):\n",
        "    n = len(code)\n",
        "    error_pos = int(input(\"Введите номер разряда, в который нужно внести ошибку (от 1 до {}): \".format(n)))\n",
        "    code[error_pos - 1] ^= 1\n",
        "    print(\"Закодированный вектор с ошибкой:\", \"\".join(map(str, code)))\n",
        "    return code\n",
        "\n",
        "def find_syndrome(code):\n",
        "    n = len(code)\n",
        "    m = 0\n",
        "    while 2 ** m < n:\n",
        "        m += 1\n",
        "\n",
        "    syndrome = [0] * m\n",
        "    for i in range(m):\n",
        "        parity_bit = 0\n",
        "        for j in range(1, n + 1):\n",
        "            if j & (2 ** i) != 0:\n",
        "                parity_bit ^= code[j - 1]\n",
        "        syndrome[i] = parity_bit\n",
        "\n",
        "    return syndrome\n",
        "\n",
        "def correct_error(code, syndrome):\n",
        "    n = len(code)\n",
        "    m = len(syndrome)\n",
        "\n",
        "    error_pos = 0\n",
        "    for i in range(m):\n",
        "        error_pos += syndrome[i] * (2 ** i)\n",
        "\n",
        "    if error_pos > 0:\n",
        "        print(\"Обнаружена ошибка в разряде:\", error_pos)\n",
        "        code[error_pos - 1] ^= 1\n",
        "        print(\"Исправленный кодовый вектор:\", \"\".join(map(str, code)))\n",
        "    else:\n",
        "        print(\"Ошибок не обнаружено\")\n",
        "\n",
        "data = input(\"Введите информационную комбинацию: \")\n",
        "code = calculate_parity_bits(data)\n",
        "code_with_error = introduce_error(code)\n",
        "syndrome = find_syndrome(code_with_error)\n",
        "correct_error(code_with_error, syndrome)\n"
      ],
      "metadata": {
        "colab": {
          "base_uri": "https://localhost:8080/"
        },
        "id": "I-rfkr9dLZiM",
        "outputId": "335af1fa-01e2-4238-afba-bb2d2a39c8e2"
      },
      "execution_count": 4,
      "outputs": [
        {
          "output_type": "stream",
          "name": "stdout",
          "text": [
            "Введите информационную комбинацию: 767\n",
            "Введите номер разряда, в который нужно внести ошибку (от 1 до 6): 4\n",
            "Закодированный вектор с ошибкой: 107067\n",
            "Обнаружена ошибка в разряде: 4\n",
            "Исправленный кодовый вектор: 107167\n"
          ]
        }
      ]
    }
  ]
}